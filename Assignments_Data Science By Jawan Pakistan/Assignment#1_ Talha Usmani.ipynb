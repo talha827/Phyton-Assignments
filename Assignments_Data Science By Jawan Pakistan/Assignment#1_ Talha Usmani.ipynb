{
  "cells": [
    {
      "cell_type": "code",
      "source": [
        "# Q1\n",
        "print('''Twinkle, twinkle, little star\n",
        "                  How I wonder what you are\n",
        "                        Up above the world so high\n",
        "                        Like a diamond in the sky\n",
        "Twinkle, twinkle, little star\n",
        "         How I wonder what you are''')"
      ],
      "metadata": {
        "colab": {
          "base_uri": "https://localhost:8080/"
        },
        "id": "vadRHq6PE6mf",
        "outputId": "21a745b8-9ef0-470c-afcd-7efea6e89653"
      },
      "execution_count": 1,
      "outputs": [
        {
          "output_type": "stream",
          "name": "stdout",
          "text": [
            "Twinkle, twinkle, little star\n",
            "                  How I wonder what you are\n",
            "                        Up above the world so high\n",
            "                        Like a diamond in the sky\n",
            "Twinkle, twinkle, little star\n",
            "         How I wonder what you are\n"
          ]
        }
      ]
    },
    {
      "cell_type": "code",
      "source": [
        "#Q2\n",
        "import sys\n",
        "\n",
        "print (\"Python version :\", sys.version)\n"
      ],
      "metadata": {
        "colab": {
          "base_uri": "https://localhost:8080/"
        },
        "id": "RqNUBMKBF5KN",
        "outputId": "713d02e7-f61c-4a61-84ec-53569911d638"
      },
      "execution_count": 2,
      "outputs": [
        {
          "output_type": "stream",
          "name": "stdout",
          "text": [
            "Python version : 3.7.12 (default, Sep 10 2021, 00:21:48) \n",
            "[GCC 7.5.0]\n"
          ]
        }
      ]
    },
    {
      "cell_type": "code",
      "source": [
        "from datetime import datetime\n",
        "print(\"Date,Time:\",datetime.now())"
      ],
      "metadata": {
        "colab": {
          "base_uri": "https://localhost:8080/"
        },
        "id": "XIATJucDHreF",
        "outputId": "d1930077-4a23-4008-8e07-13545be6809e"
      },
      "execution_count": 9,
      "outputs": [
        {
          "output_type": "stream",
          "name": "stdout",
          "text": [
            "Date,Time: 2021-12-31 10:58:32.621786\n"
          ]
        }
      ]
    },
    {
      "cell_type": "code",
      "source": [
        "#Q4\n",
        "r= float(input(\"Enter the radius Value=\"))\n",
        "area=3.14*(r*2) \n",
        "print(\" Area of Cicle=\", area)"
      ],
      "metadata": {
        "colab": {
          "base_uri": "https://localhost:8080/"
        },
        "id": "Gm4AK63PJFu7",
        "outputId": "19d92b59-27ab-47a6-e7c6-76e2292fb27f"
      },
      "execution_count": 19,
      "outputs": [
        {
          "output_type": "stream",
          "name": "stdout",
          "text": [
            "Enter the radius Value=3.2\n",
            " Area of Cicle= 20.096000000000004\n"
          ]
        }
      ]
    },
    {
      "cell_type": "code",
      "source": [
        "# Q5\n",
        "first= input(\"Enter first name= \")\n",
        "last= input(\"Enter last name=\")\n",
        "print(first,last)\n",
        "print(last,first)\n"
      ],
      "metadata": {
        "colab": {
          "base_uri": "https://localhost:8080/"
        },
        "id": "oqOsgg5CS9Tb",
        "outputId": "c9f9779b-0b33-4443-849d-fdbf9a9fe6d6"
      },
      "execution_count": 25,
      "outputs": [
        {
          "output_type": "stream",
          "name": "stdout",
          "text": [
            "Enter first name= Talha\n",
            "Enter last name=Usmani\n",
            "Talha Usmani\n",
            "Usmani Talha\n"
          ]
        }
      ]
    },
    {
      "cell_type": "code",
      "source": [
        "# Q6\n",
        "a=int(input(\"Enter first number=\"))\n",
        "b=int(input(\"Enter Second number=\"))\n",
        "add=a+b \n",
        "print(\"sum=\",add)\n"
      ],
      "metadata": {
        "colab": {
          "base_uri": "https://localhost:8080/"
        },
        "id": "gwP2NBZUU1Ht",
        "outputId": "c29a1779-cfab-48ae-e017-fe113dc6b84f"
      },
      "execution_count": 29,
      "outputs": [
        {
          "output_type": "stream",
          "name": "stdout",
          "text": [
            "Enter first number=10\n",
            "Enter Second number=20\n",
            "sum= 30\n"
          ]
        }
      ]
    }
  ],
  "metadata": {
    "colab": {
      "collapsed_sections": [],
      "name": "Welcome To Colaboratory",
      "toc_visible": true,
      "provenance": []
    },
    "kernelspec": {
      "display_name": "Python 3",
      "name": "python3"
    }
  },
  "nbformat": 4,
  "nbformat_minor": 0
}